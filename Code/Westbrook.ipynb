{
 "cells": [
  {
   "cell_type": "code",
   "execution_count": 9,
   "metadata": {},
   "outputs": [
    {
     "name": "stdout",
     "output_type": "stream",
     "text": [
      "                Player Pos  Age   Tm   G  GS    MP    FG   FGA    FG%  ...  \\\n",
      "623  Russell Westbrook  PG   31  HOU  57  57  35.9  10.6  22.5  0.472  ...   \n",
      "\n",
      "       FT%  ORB  DRB  TRB  AST  STL  BLK  TOV   PF   PTS  \n",
      "623  0.763  1.8  6.2  7.9  7.0  1.6  0.4  4.5  3.5  27.2  \n",
      "\n",
      "[1 rows x 29 columns]\n",
      "                Player Pos  Age   Tm   G  GS    MP   FG   FGA    FG%  ...  \\\n",
      "475  Russell Westbrook  PG   32  WAS  19  19  33.2  7.3  17.9  0.406  ...   \n",
      "\n",
      "       FT%  ORB  DRB  TRB  AST  STL  BLK  TOV   PF   PTS  \n",
      "475  0.619  1.8  7.6  9.4  9.5  0.8  0.4  4.9  2.8  18.9  \n",
      "\n",
      "[1 rows x 29 columns]\n",
      "     RANK          FULL NAME TEAM POS    AGE  GP   MPG  \\\n",
      "682   NaN  Russell Westbrook  Lal   G  33.41  78  34.3   \n",
      "\n",
      "     MIN%Minutes PercentagePercentage of team minutes used by a player while he was on the floor  \\\n",
      "682                                               71.5                                             \n",
      "\n",
      "     USG%Usage RateUsage rate, a.k.a., usage percentage is an estimate of the percentage of team plays used by a player while he was on the floor  \\\n",
      "682                                               27.4                                                                                              \n",
      "\n",
      "     TO%Turnover RateA metric that estimates the number of turnovers a player commits per 100 possessions  \\\n",
      "682                                               17.3                                                      \n",
      "\n",
      "     ...  RPGReboundsRebounds per game.  \\\n",
      "682  ...                            7.4   \n",
      "\n",
      "     TRB%Total Rebound PercentageTotal rebound percentage is estimated percentage of available rebounds grabbed by the player while the player is on the court.  \\\n",
      "682                                               11.6                                                                                                            \n",
      "\n",
      "     APGAssistsAssists per game.  \\\n",
      "682                          7.1   \n",
      "\n",
      "     AST%Assist PercentageAssist percentage is an estimated percentage of teammate field goals a player assisted while the player is on the court  \\\n",
      "682                                               31.6                                                                                              \n",
      "\n",
      "     SPGStealsSteals per game.  BPGBlocksBlocks per game.  \\\n",
      "682                       0.95                       0.26   \n",
      "\n",
      "     TOPGTurnoversTurnovers per game.  \\\n",
      "682                              3.77   \n",
      "\n",
      "     VIVersatility IndexVersatility index is a metric that measures a player’s ability to produce in points, assists, and rebounds. The average player will score around a five on the index, while top players score above 10  \\\n",
      "682                                               11.6                                                                                                                                                                           \n",
      "\n",
      "     ORTGOffensive RatingIndividual offensive rating is the number of points produced by a player per 100 total individual possessions.  \\\n",
      "682                                              101.9                                                                                    \n",
      "\n",
      "     DRTGDefensive RatingIndividual defensive rating estimates how many points the player allowed per 100 possessions he individually faced while staying on the court.  \n",
      "682                                              107.1                                                                                                                   \n",
      "\n",
      "[1 rows x 29 columns]\n"
     ]
    }
   ],
   "source": [
    "import pandas as pd\n",
    "\n",
    "player_stats_2019 = pd.read_csv(\"../Datasets/NBA_2019_2020_Season_Player_Stats/nba_2020_per_game.csv\")\n",
    "\n",
    "westbrook_2019 = player_stats_2019[player_stats_2019[\"Player\"] == \"Russell Westbrook\"]\n",
    "\n",
    "player_stats_2020 = pd.read_csv(\"../Datasets/NBA_2020_2021_Season_Player_Stats/nba2021_per_game.csv\")\n",
    "\n",
    "westbrook_2020 = player_stats_2020[player_stats_2020[\"Player\"] == \"Russell Westbrook\"]\n",
    "\n",
    "player_stats_2021 = pd.read_csv(\"../Datasets/NBA_2021_2022_Season_Player_Stats/NBA Stats 202122 All Player Statistics in one Page.csv\")\n",
    "\n",
    "westbrook_2021 = player_stats_2021[player_stats_2021[\"FULL NAME\"] == \"Russell Westbrook\"]\n",
    "\n",
    "print(westbrook_2019)\n",
    "print(westbrook_2020)\n",
    "print(westbrook_2021)"
   ]
  },
  {
   "cell_type": "code",
   "execution_count": 15,
   "metadata": {},
   "outputs": [
    {
     "data": {
      "text/plain": [
       "[<matplotlib.lines.Line2D at 0x2c554692ef0>]"
      ]
     },
     "execution_count": 15,
     "metadata": {},
     "output_type": "execute_result"
    },
    {
     "data": {
      "image/png": "[encoded data removed]",
      "text/plain": [
       "<Figure size 432x288 with 1 Axes>"
      ]
     },
     "metadata": {
      "needs_background": "light"
     },
     "output_type": "display_data"
    }
   ],
   "source": [
    "shooting_data = {'Year': [2019, 2020, 2021], 'PPG': [westbrook_2019.iloc[0][\"PTS\"], westbrook_2020.iloc[0][\"PTS\"], westbrook_2021.iloc[0][\"PPGPointsPoints per game.\"]]}\n",
    "shooting_df = pd.DataFrame(data=shooting_data)\n",
    "\n",
    "import matplotlib.pyplot as plt\n",
    "\n",
    "plt.plot(shooting_df[\"Year\"], shooting_df[\"PPG\"])\n",
    "\n"
   ]
  }
 ],
 "metadata": {
  "interpreter": {
   "hash": "2be5faf79681da6f2a61fdfdd5405d65d042280f7fba6178067603e3a2925119"
  },
  "kernelspec": {
   "display_name": "Python 3.10.1 64-bit",
   "language": "python",
   "name": "python3"
  },
  "language_info": {
   "codemirror_mode": {
    "name": "ipython",
    "version": 3
   },
   "file_extension": ".py",
   "mimetype": "text/x-python",
   "name": "python",
   "nbconvert_exporter": "python",
   "pygments_lexer": "ipython3",
   "version": "3.10.1"
  },
  "orig_nbformat": 4
 },
 "nbformat": 4,
 "nbformat_minor": 2
}
