{
 "cells": [
  {
   "cell_type": "markdown",
   "metadata": {},
   "source": [
    "## Did Westbrook Have an Abnormally Bad Season?\n",
    "\n",
    "One of the major trades that the Lakers conducted coming into the 2021 - 2022 was that they traded for Russell Westbrook from the Washington Wizards, signing him to a $47 million deal (for three years). Many fans did not think that Russell Westbrook matched their expectations and that Westbrook should have delivered more based on the money that the Lakers are paying him. \n",
    "\n",
    "The fans have blamed Russell Westbrook as one of the causes of the Laker's underperformance this season, and this begs the question - did Russell Westbrook have a statistically abnormal season during his current tenure as a Laker?\n",
    "\n",
    "Our null hypothesis in this instance would be that Russell Westbrook did not underperform significantly, and the fans would be correct if we are able to disprove the null hypothesis."
   ]
  },
  {
   "cell_type": "markdown",
   "metadata": {},
   "source": [
    "For our dataset, we retrieved all historical data for Russell Westbrook from [Basketball Reference](https://www.basketball-reference.com/players/w/westbru01.html). We ended up with data for all 14 seasons that Russell Westbrook has played in starting from the 2008 - 2009 season to the 2021 - 2022 season we're interested in. "
   ]
  },
  {
   "cell_type": "code",
   "execution_count": 9,
   "metadata": {},
   "outputs": [
    {
     "data": {
      "text/html": [
       "<div>\n",
       "<style scoped>\n",
       "    .dataframe tbody tr th:only-of-type {\n",
       "        vertical-align: middle;\n",
       "    }\n",
       "\n",
       "    .dataframe tbody tr th {\n",
       "        vertical-align: top;\n",
       "    }\n",
       "\n",
       "    .dataframe thead th {\n",
       "        text-align: right;\n",
       "    }\n",
       "</style>\n",
       "<table border=\"1\" class=\"dataframe\">\n",
       "  <thead>\n",
       "    <tr style=\"text-align: right;\">\n",
       "      <th></th>\n",
       "      <th>Season_Start</th>\n",
       "      <th>Season_End</th>\n",
       "      <th>Age</th>\n",
       "      <th>Tm</th>\n",
       "      <th>Lg</th>\n",
       "      <th>Pos</th>\n",
       "      <th>G</th>\n",
       "      <th>GS</th>\n",
       "      <th>MP</th>\n",
       "      <th>FG</th>\n",
       "      <th>...</th>\n",
       "      <th>FT%</th>\n",
       "      <th>ORB</th>\n",
       "      <th>DRB</th>\n",
       "      <th>TRB</th>\n",
       "      <th>AST</th>\n",
       "      <th>STL</th>\n",
       "      <th>BLK</th>\n",
       "      <th>TOV</th>\n",
       "      <th>PF</th>\n",
       "      <th>PTS</th>\n",
       "    </tr>\n",
       "  </thead>\n",
       "  <tbody>\n",
       "    <tr>\n",
       "      <th>0</th>\n",
       "      <td>2008</td>\n",
       "      <td>2009</td>\n",
       "      <td>20</td>\n",
       "      <td>OKC</td>\n",
       "      <td>NBA</td>\n",
       "      <td>PG</td>\n",
       "      <td>82</td>\n",
       "      <td>65</td>\n",
       "      <td>32.5</td>\n",
       "      <td>5.3</td>\n",
       "      <td>...</td>\n",
       "      <td>0.815</td>\n",
       "      <td>2.2</td>\n",
       "      <td>2.7</td>\n",
       "      <td>4.9</td>\n",
       "      <td>5.3</td>\n",
       "      <td>1.3</td>\n",
       "      <td>0.2</td>\n",
       "      <td>3.3</td>\n",
       "      <td>2.3</td>\n",
       "      <td>15.3</td>\n",
       "    </tr>\n",
       "    <tr>\n",
       "      <th>1</th>\n",
       "      <td>2009</td>\n",
       "      <td>2010</td>\n",
       "      <td>21</td>\n",
       "      <td>OKC</td>\n",
       "      <td>NBA</td>\n",
       "      <td>PG</td>\n",
       "      <td>82</td>\n",
       "      <td>82</td>\n",
       "      <td>34.3</td>\n",
       "      <td>5.9</td>\n",
       "      <td>...</td>\n",
       "      <td>0.780</td>\n",
       "      <td>1.7</td>\n",
       "      <td>3.1</td>\n",
       "      <td>4.9</td>\n",
       "      <td>8.0</td>\n",
       "      <td>1.3</td>\n",
       "      <td>0.4</td>\n",
       "      <td>3.3</td>\n",
       "      <td>2.5</td>\n",
       "      <td>16.1</td>\n",
       "    </tr>\n",
       "    <tr>\n",
       "      <th>2</th>\n",
       "      <td>2010</td>\n",
       "      <td>2011</td>\n",
       "      <td>22</td>\n",
       "      <td>OKC</td>\n",
       "      <td>NBA</td>\n",
       "      <td>PG</td>\n",
       "      <td>82</td>\n",
       "      <td>82</td>\n",
       "      <td>34.7</td>\n",
       "      <td>7.5</td>\n",
       "      <td>...</td>\n",
       "      <td>0.842</td>\n",
       "      <td>1.5</td>\n",
       "      <td>3.1</td>\n",
       "      <td>4.6</td>\n",
       "      <td>8.2</td>\n",
       "      <td>1.9</td>\n",
       "      <td>0.4</td>\n",
       "      <td>3.9</td>\n",
       "      <td>2.5</td>\n",
       "      <td>21.9</td>\n",
       "    </tr>\n",
       "    <tr>\n",
       "      <th>3</th>\n",
       "      <td>2011</td>\n",
       "      <td>2012</td>\n",
       "      <td>23</td>\n",
       "      <td>OKC</td>\n",
       "      <td>NBA</td>\n",
       "      <td>PG</td>\n",
       "      <td>66</td>\n",
       "      <td>66</td>\n",
       "      <td>35.3</td>\n",
       "      <td>8.8</td>\n",
       "      <td>...</td>\n",
       "      <td>0.823</td>\n",
       "      <td>1.5</td>\n",
       "      <td>3.1</td>\n",
       "      <td>4.6</td>\n",
       "      <td>5.5</td>\n",
       "      <td>1.7</td>\n",
       "      <td>0.3</td>\n",
       "      <td>3.6</td>\n",
       "      <td>2.2</td>\n",
       "      <td>23.6</td>\n",
       "    </tr>\n",
       "    <tr>\n",
       "      <th>4</th>\n",
       "      <td>2012</td>\n",
       "      <td>2013</td>\n",
       "      <td>24</td>\n",
       "      <td>OKC</td>\n",
       "      <td>NBA</td>\n",
       "      <td>PG</td>\n",
       "      <td>82</td>\n",
       "      <td>82</td>\n",
       "      <td>34.9</td>\n",
       "      <td>8.2</td>\n",
       "      <td>...</td>\n",
       "      <td>0.800</td>\n",
       "      <td>1.4</td>\n",
       "      <td>3.9</td>\n",
       "      <td>5.2</td>\n",
       "      <td>7.4</td>\n",
       "      <td>1.8</td>\n",
       "      <td>0.3</td>\n",
       "      <td>3.3</td>\n",
       "      <td>2.3</td>\n",
       "      <td>23.2</td>\n",
       "    </tr>\n",
       "    <tr>\n",
       "      <th>5</th>\n",
       "      <td>2013</td>\n",
       "      <td>2014</td>\n",
       "      <td>25</td>\n",
       "      <td>OKC</td>\n",
       "      <td>NBA</td>\n",
       "      <td>PG</td>\n",
       "      <td>46</td>\n",
       "      <td>46</td>\n",
       "      <td>30.7</td>\n",
       "      <td>7.5</td>\n",
       "      <td>...</td>\n",
       "      <td>0.826</td>\n",
       "      <td>1.2</td>\n",
       "      <td>4.5</td>\n",
       "      <td>5.7</td>\n",
       "      <td>6.9</td>\n",
       "      <td>1.9</td>\n",
       "      <td>0.2</td>\n",
       "      <td>3.8</td>\n",
       "      <td>2.3</td>\n",
       "      <td>21.8</td>\n",
       "    </tr>\n",
       "    <tr>\n",
       "      <th>6</th>\n",
       "      <td>2014</td>\n",
       "      <td>2015</td>\n",
       "      <td>26</td>\n",
       "      <td>OKC</td>\n",
       "      <td>NBA</td>\n",
       "      <td>PG</td>\n",
       "      <td>67</td>\n",
       "      <td>67</td>\n",
       "      <td>34.4</td>\n",
       "      <td>9.4</td>\n",
       "      <td>...</td>\n",
       "      <td>0.835</td>\n",
       "      <td>1.9</td>\n",
       "      <td>5.4</td>\n",
       "      <td>7.3</td>\n",
       "      <td>8.6</td>\n",
       "      <td>2.1</td>\n",
       "      <td>0.2</td>\n",
       "      <td>4.4</td>\n",
       "      <td>2.7</td>\n",
       "      <td>28.1</td>\n",
       "    </tr>\n",
       "    <tr>\n",
       "      <th>7</th>\n",
       "      <td>2015</td>\n",
       "      <td>2016</td>\n",
       "      <td>27</td>\n",
       "      <td>OKC</td>\n",
       "      <td>NBA</td>\n",
       "      <td>PG</td>\n",
       "      <td>80</td>\n",
       "      <td>80</td>\n",
       "      <td>34.4</td>\n",
       "      <td>8.2</td>\n",
       "      <td>...</td>\n",
       "      <td>0.812</td>\n",
       "      <td>1.8</td>\n",
       "      <td>6.0</td>\n",
       "      <td>7.8</td>\n",
       "      <td>10.4</td>\n",
       "      <td>2.0</td>\n",
       "      <td>0.3</td>\n",
       "      <td>4.3</td>\n",
       "      <td>2.5</td>\n",
       "      <td>23.5</td>\n",
       "    </tr>\n",
       "    <tr>\n",
       "      <th>8</th>\n",
       "      <td>2016</td>\n",
       "      <td>2017</td>\n",
       "      <td>28</td>\n",
       "      <td>OKC</td>\n",
       "      <td>NBA</td>\n",
       "      <td>PG</td>\n",
       "      <td>81</td>\n",
       "      <td>81</td>\n",
       "      <td>34.6</td>\n",
       "      <td>10.2</td>\n",
       "      <td>...</td>\n",
       "      <td>0.845</td>\n",
       "      <td>1.7</td>\n",
       "      <td>9.0</td>\n",
       "      <td>10.7</td>\n",
       "      <td>10.4</td>\n",
       "      <td>1.6</td>\n",
       "      <td>0.4</td>\n",
       "      <td>5.4</td>\n",
       "      <td>2.3</td>\n",
       "      <td>31.6</td>\n",
       "    </tr>\n",
       "    <tr>\n",
       "      <th>9</th>\n",
       "      <td>2017</td>\n",
       "      <td>2018</td>\n",
       "      <td>29</td>\n",
       "      <td>OKC</td>\n",
       "      <td>NBA</td>\n",
       "      <td>PG</td>\n",
       "      <td>80</td>\n",
       "      <td>80</td>\n",
       "      <td>36.4</td>\n",
       "      <td>9.5</td>\n",
       "      <td>...</td>\n",
       "      <td>0.737</td>\n",
       "      <td>1.9</td>\n",
       "      <td>8.2</td>\n",
       "      <td>10.1</td>\n",
       "      <td>10.3</td>\n",
       "      <td>1.8</td>\n",
       "      <td>0.3</td>\n",
       "      <td>4.8</td>\n",
       "      <td>2.5</td>\n",
       "      <td>25.4</td>\n",
       "    </tr>\n",
       "    <tr>\n",
       "      <th>10</th>\n",
       "      <td>2018</td>\n",
       "      <td>2019</td>\n",
       "      <td>30</td>\n",
       "      <td>OKC</td>\n",
       "      <td>NBA</td>\n",
       "      <td>PG</td>\n",
       "      <td>73</td>\n",
       "      <td>73</td>\n",
       "      <td>36.0</td>\n",
       "      <td>8.6</td>\n",
       "      <td>...</td>\n",
       "      <td>0.656</td>\n",
       "      <td>1.5</td>\n",
       "      <td>9.6</td>\n",
       "      <td>11.1</td>\n",
       "      <td>10.7</td>\n",
       "      <td>1.9</td>\n",
       "      <td>0.5</td>\n",
       "      <td>4.5</td>\n",
       "      <td>3.4</td>\n",
       "      <td>22.9</td>\n",
       "    </tr>\n",
       "    <tr>\n",
       "      <th>11</th>\n",
       "      <td>2019</td>\n",
       "      <td>2020</td>\n",
       "      <td>31</td>\n",
       "      <td>HOU</td>\n",
       "      <td>NBA</td>\n",
       "      <td>PG</td>\n",
       "      <td>57</td>\n",
       "      <td>57</td>\n",
       "      <td>35.9</td>\n",
       "      <td>10.6</td>\n",
       "      <td>...</td>\n",
       "      <td>0.763</td>\n",
       "      <td>1.8</td>\n",
       "      <td>6.2</td>\n",
       "      <td>7.9</td>\n",
       "      <td>7.0</td>\n",
       "      <td>1.6</td>\n",
       "      <td>0.4</td>\n",
       "      <td>4.5</td>\n",
       "      <td>3.5</td>\n",
       "      <td>27.2</td>\n",
       "    </tr>\n",
       "    <tr>\n",
       "      <th>12</th>\n",
       "      <td>2020</td>\n",
       "      <td>2021</td>\n",
       "      <td>32</td>\n",
       "      <td>WAS</td>\n",
       "      <td>NBA</td>\n",
       "      <td>PG</td>\n",
       "      <td>65</td>\n",
       "      <td>65</td>\n",
       "      <td>36.4</td>\n",
       "      <td>8.4</td>\n",
       "      <td>...</td>\n",
       "      <td>0.656</td>\n",
       "      <td>1.7</td>\n",
       "      <td>9.9</td>\n",
       "      <td>11.5</td>\n",
       "      <td>11.7</td>\n",
       "      <td>1.4</td>\n",
       "      <td>0.4</td>\n",
       "      <td>4.8</td>\n",
       "      <td>2.9</td>\n",
       "      <td>22.2</td>\n",
       "    </tr>\n",
       "    <tr>\n",
       "      <th>13</th>\n",
       "      <td>2021</td>\n",
       "      <td>2022</td>\n",
       "      <td>33</td>\n",
       "      <td>LAL</td>\n",
       "      <td>NBA</td>\n",
       "      <td>PG</td>\n",
       "      <td>78</td>\n",
       "      <td>78</td>\n",
       "      <td>34.3</td>\n",
       "      <td>7.0</td>\n",
       "      <td>...</td>\n",
       "      <td>0.667</td>\n",
       "      <td>1.4</td>\n",
       "      <td>6.0</td>\n",
       "      <td>7.4</td>\n",
       "      <td>7.1</td>\n",
       "      <td>1.0</td>\n",
       "      <td>0.3</td>\n",
       "      <td>3.8</td>\n",
       "      <td>3.0</td>\n",
       "      <td>18.5</td>\n",
       "    </tr>\n",
       "  </tbody>\n",
       "</table>\n",
       "<p>14 rows × 31 columns</p>\n",
       "</div>"
      ],
      "text/plain": [
       "    Season_Start  Season_End  Age   Tm   Lg Pos   G  GS    MP    FG  ...  \\\n",
       "0           2008        2009   20  OKC  NBA  PG  82  65  32.5   5.3  ...   \n",
       "1           2009        2010   21  OKC  NBA  PG  82  82  34.3   5.9  ...   \n",
       "2           2010        2011   22  OKC  NBA  PG  82  82  34.7   7.5  ...   \n",
       "3           2011        2012   23  OKC  NBA  PG  66  66  35.3   8.8  ...   \n",
       "4           2012        2013   24  OKC  NBA  PG  82  82  34.9   8.2  ...   \n",
       "5           2013        2014   25  OKC  NBA  PG  46  46  30.7   7.5  ...   \n",
       "6           2014        2015   26  OKC  NBA  PG  67  67  34.4   9.4  ...   \n",
       "7           2015        2016   27  OKC  NBA  PG  80  80  34.4   8.2  ...   \n",
       "8           2016        2017   28  OKC  NBA  PG  81  81  34.6  10.2  ...   \n",
       "9           2017        2018   29  OKC  NBA  PG  80  80  36.4   9.5  ...   \n",
       "10          2018        2019   30  OKC  NBA  PG  73  73  36.0   8.6  ...   \n",
       "11          2019        2020   31  HOU  NBA  PG  57  57  35.9  10.6  ...   \n",
       "12          2020        2021   32  WAS  NBA  PG  65  65  36.4   8.4  ...   \n",
       "13          2021        2022   33  LAL  NBA  PG  78  78  34.3   7.0  ...   \n",
       "\n",
       "      FT%  ORB  DRB   TRB   AST  STL  BLK  TOV   PF   PTS  \n",
       "0   0.815  2.2  2.7   4.9   5.3  1.3  0.2  3.3  2.3  15.3  \n",
       "1   0.780  1.7  3.1   4.9   8.0  1.3  0.4  3.3  2.5  16.1  \n",
       "2   0.842  1.5  3.1   4.6   8.2  1.9  0.4  3.9  2.5  21.9  \n",
       "3   0.823  1.5  3.1   4.6   5.5  1.7  0.3  3.6  2.2  23.6  \n",
       "4   0.800  1.4  3.9   5.2   7.4  1.8  0.3  3.3  2.3  23.2  \n",
       "5   0.826  1.2  4.5   5.7   6.9  1.9  0.2  3.8  2.3  21.8  \n",
       "6   0.835  1.9  5.4   7.3   8.6  2.1  0.2  4.4  2.7  28.1  \n",
       "7   0.812  1.8  6.0   7.8  10.4  2.0  0.3  4.3  2.5  23.5  \n",
       "8   0.845  1.7  9.0  10.7  10.4  1.6  0.4  5.4  2.3  31.6  \n",
       "9   0.737  1.9  8.2  10.1  10.3  1.8  0.3  4.8  2.5  25.4  \n",
       "10  0.656  1.5  9.6  11.1  10.7  1.9  0.5  4.5  3.4  22.9  \n",
       "11  0.763  1.8  6.2   7.9   7.0  1.6  0.4  4.5  3.5  27.2  \n",
       "12  0.656  1.7  9.9  11.5  11.7  1.4  0.4  4.8  2.9  22.2  \n",
       "13  0.667  1.4  6.0   7.4   7.1  1.0  0.3  3.8  3.0  18.5  \n",
       "\n",
       "[14 rows x 31 columns]"
      ]
     },
     "execution_count": 9,
     "metadata": {},
     "output_type": "execute_result"
    }
   ],
   "source": [
    "import pandas as pd\n",
    "\n",
    "westbrook_stats = pd.read_csv(\"../Datasets/Westbrook Stuff/westbrook.csv\")\n",
    "\n",
    "westbrook_stats"
   ]
  },
  {
   "cell_type": "markdown",
   "metadata": {},
   "source": [
    "First, let's examine the points per game that Russell Westbrook averaged over each season that he played in. In basketball, you win if you outscore the other team, so it makes sense to see if Russell Westbrook's scoring ability. "
   ]
  },
  {
   "cell_type": "code",
   "execution_count": 17,
   "metadata": {},
   "outputs": [
    {
     "data": {
      "text/plain": [
       "Text(0.5, 1.0, 'Points Per Game for Russell Westbrook Over His Career')"
      ]
     },
     "execution_count": 17,
     "metadata": {},
     "output_type": "execute_result"
    },
    {
     "data": {
      "image/png": "[encoded data removed]",
      "text/plain": [
       "<Figure size 432x288 with 1 Axes>"
      ]
     },
     "metadata": {
      "needs_background": "light"
     },
     "output_type": "display_data"
    }
   ],
   "source": [
    "import matplotlib.pyplot as plt\n",
    "\n",
    "plt.plot(westbrook_stats[\"Season_Start\"], westbrook_stats[\"PTS\"])\n",
    "plt.xlabel(\"Season (Starting Year)\")\n",
    "plt.ylabel(\"Points Per Game\")\n",
    "plt.title('Points Per Game for Russell Westbrook Over His Career')\n"
   ]
  },
  {
   "cell_type": "markdown",
   "metadata": {},
   "source": [
    "Next, let's examine the effective field goal percentage of Russell Westbrook averaged over each season that he played in. Field goal percentage is calculated by shots made divided by shots attempted. However, in the game of basketball, there are 2-point field goals and 3-point field goals, 3 pointers being much more difficult to make than 2 pointers in most cases. Because of this, across the board players have lower three point percentages than two pointer percentages. So the effective field goal percentage adjusts for this difference by weighting three point percentage less than two point percentage so players are penalized less for taking difficult shots. Effective field goal percentage is calculated by 2-point field goals + 0.5 * 3-point field goals divided by total field goal attempts. "
   ]
  },
  {
   "cell_type": "code",
   "execution_count": 18,
   "metadata": {},
   "outputs": [
    {
     "data": {
      "text/plain": [
       "Text(0.5, 1.0, 'Effective Field Goal Percentage for Russell Westbrook Over His Career')"
      ]
     },
     "execution_count": 18,
     "metadata": {},
     "output_type": "execute_result"
    },
    {
     "data": {
      "image/png": "[encoded data removed]",
      "text/plain": [
       "<Figure size 432x288 with 1 Axes>"
      ]
     },
     "metadata": {
      "needs_background": "light"
     },
     "output_type": "display_data"
    }
   ],
   "source": [
    "plt.plot(westbrook_stats[\"Season_Start\"], westbrook_stats[\"eFG%\"])\n",
    "plt.xlabel(\"Season (Starting Year)\")\n",
    "plt.ylabel(\"Effective Field Goal Percentage\")\n",
    "plt.title('Effective Field Goal Percentage for Russell Westbrook Over His Career')"
   ]
  },
  {
   "cell_type": "markdown",
   "metadata": {},
   "source": [
    "Next, let's look at turnovers per game as well. A turnover is defined as a player giving up the ball to the opposing team before their team is able to attempt a shot. If players have high turnovers, then they are giving up the ball often and giving the other team mroe chances to score. "
   ]
  },
  {
   "cell_type": "code",
   "execution_count": 19,
   "metadata": {},
   "outputs": [
    {
     "data": {
      "text/plain": [
       "Text(0.5, 1.0, 'Turnovers Per Game for Russell Westbrook Over His Career')"
      ]
     },
     "execution_count": 19,
     "metadata": {},
     "output_type": "execute_result"
    },
    {
     "data": {
      "image/png": "[encoded data removed]",
      "text/plain": [
       "<Figure size 432x288 with 1 Axes>"
      ]
     },
     "metadata": {
      "needs_background": "light"
     },
     "output_type": "display_data"
    }
   ],
   "source": [
    "plt.plot(westbrook_stats[\"Season_Start\"], westbrook_stats[\"TOV\"])\n",
    "plt.xlabel(\"Season (Starting Year)\")\n",
    "plt.ylabel(\"Turnovers Per Game\")\n",
    "plt.title('Turnovers Per Game for Russell Westbrook Over His Career')"
   ]
  },
  {
   "cell_type": "markdown",
   "metadata": {},
   "source": [
    "Lastly, let's look at Russell Westbrook's defensive box plus/minus to get an indication of his defensive ability. The defensive box plus/minus score is calculated with a long formula ([See how it is calculated here](https://hackastat.eu/en/learn-a-stat-box-plus-minus-and-vorp/)) but the box score estimates the defensive points per 100 possessions a player contributed above a league-average player, translated to an average team. "
   ]
  },
  {
   "cell_type": "code",
   "execution_count": 21,
   "metadata": {},
   "outputs": [
    {
     "data": {
      "text/plain": [
       "Text(0.5, 1.0, 'Defensive Box +/- Score for Russell Westbrook Over His Career')"
      ]
     },
     "execution_count": 21,
     "metadata": {},
     "output_type": "execute_result"
    },
    {
     "data": {
      "image/png": "[encoded data removed]",
      "text/plain": [
       "<Figure size 432x288 with 1 Axes>"
      ]
     },
     "metadata": {
      "needs_background": "light"
     },
     "output_type": "display_data"
    }
   ],
   "source": [
    "westbrook_advanced_stats = pd.read_csv(\"../Datasets/Westbrook Stuff/westbrook_advanced.csv\")\n",
    "\n",
    "plt.plot(westbrook_advanced_stats[\"Season_Start\"], westbrook_advanced_stats[\"DBPM\"])\n",
    "plt.xlabel(\"Season (Starting Year)\")\n",
    "plt.ylabel(\"Defensive Box +/- Score\")\n",
    "plt.title('Defensive Box +/- Score for Russell Westbrook Over His Career')"
   ]
  },
  {
   "cell_type": "markdown",
   "metadata": {},
   "source": [
    "Now, we want to know whether Russell Westbrook's statistics for the 2021 - 2022 season can be considered an outlier / statistically abnormal given his previous performances on other teams. We want to know whether the Lakers got what they paid for, or if Russell Westbrook completely disappointed in the 2021 - 2022 season.\n",
    "\n",
    "To do so, we calculate the average for Russell Westbrook from 2008-09 to 2019-20 in each of the statistics we are interested in. We then calculate the standard deviation of the 2020-21 statistic to determine whether his performance in the 2020-21 season was abnormal. "
   ]
  },
  {
   "cell_type": "code",
   "execution_count": 27,
   "metadata": {},
   "outputs": [],
   "source": [
    "# Calculate the mean and standard deviation for each of the statistics we're interested in\n",
    "\n",
    "statistics_without_20_21_season = westbrook_stats[westbrook_stats[\"Season_Start\"] != 2021]\n",
    "\n",
    "ppg_mean = statistics_without_20_21_season[\"PTS\"].mean()\n",
    "ppg_sd = statistics_without_20_21_season[\"PTS\"].std()\n",
    "\n",
    "efg_mean = statistics_without_20_21_season[\"eFG%\"].mean()\n",
    "efg_sd = statistics_without_20_21_season[\"eFG%\"].std()\n",
    "\n",
    "tov_mean = statistics_without_20_21_season[\"TOV\"].mean()\n",
    "tov_sd = statistics_without_20_21_season[\"TOV\"].std()\n",
    "\n",
    "advanced_statistics_without_20_21_season = westbrook_advanced_stats[\n",
    "    westbrook_advanced_stats[\"Season_Start\"] != 2021]\n",
    "\n",
    "dbpm_mean = advanced_statistics_without_20_21_season[\"DBPM\"].mean()\n",
    "dbpm_sd = advanced_statistics_without_20_21_season[\"DBPM\"].std()"
   ]
  },
  {
   "cell_type": "code",
   "execution_count": 35,
   "metadata": {},
   "outputs": [
    {
     "name": "stdout",
     "output_type": "stream",
     "text": [
      "Points Per Game: 1.0873155067000648 standard deviations away from the mean\n",
      "Effective Field Goal Percentage: 0.4297851611157377 standard deviations away from the mean\n",
      "Turnovers Per Game: 0.5163836127856927 standard deviations away from the mean\n",
      "Defensive Box +/- Score: 1.3553313531838171 standard deviations away from the mean\n"
     ]
    }
   ],
   "source": [
    "westbrook_20_21 = westbrook_stats.iloc[13]\n",
    "\n",
    "ppg_20_21 = westbrook_20_21[\"PTS\"]\n",
    "efg_20_21 = westbrook_20_21[\"eFG%\"]\n",
    "tov_20_21 = westbrook_20_21[\"TOV\"]\n",
    "\n",
    "adv_westbrook_20_21 = westbrook_advanced_stats.iloc[13]\n",
    "dbpm_20_21 = adv_westbrook_20_21[\"DBPM\"]\n",
    "\n",
    "print(\"Points Per Game: \" + str(abs(ppg_20_21 - ppg_mean)/ppg_sd) + \" standard deviations away from the mean\")\n",
    "print(\"Effective Field Goal Percentage: \" + str(abs(efg_20_21 - efg_mean)/efg_sd) + \" standard deviations away from the mean\")\n",
    "print(\"Turnovers Per Game: \" + str(abs(tov_20_21 - tov_mean)/tov_sd) + \" standard deviations away from the mean\")\n",
    "print(\"Defensive Box +/- Score: \" + str(abs(dbpm_20_21 - dbpm_mean)/dbpm_sd) + \" standard deviations away from the mean\")"
   ]
  },
  {
   "cell_type": "markdown",
   "metadata": {},
   "source": [
    "### Conclusion\n",
    "\n",
    "As you can see with our calculations, Westbrook's performance this season is actually pretty in line with his historical performance. His defensive box +/- is the most standard deviations away from the mean, but even then, he is only 1.355 standard deviations from his own historical mean. Therefore, we are unable to disprove the null hypothesis."
   ]
  }
 ],
 "metadata": {
  "interpreter": {
   "hash": "369f2c481f4da34e4445cda3fffd2e751bd1c4d706f27375911949ba6bb62e1c"
  },
  "kernelspec": {
   "display_name": "Python 3.10.1 64-bit",
   "language": "python",
   "name": "python3"
  },
  "language_info": {
   "codemirror_mode": {
    "name": "ipython",
    "version": 3
   },
   "file_extension": ".py",
   "mimetype": "text/x-python",
   "name": "python",
   "nbconvert_exporter": "python",
   "pygments_lexer": "ipython3",
   "version": "3.10.1"
  },
  "orig_nbformat": 4
 },
 "nbformat": 4,
 "nbformat_minor": 2
}
