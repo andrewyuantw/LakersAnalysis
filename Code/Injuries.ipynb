{
 "cells": [
  {
   "cell_type": "code",
   "execution_count": 1,
   "metadata": {},
   "outputs": [],
   "source": [
    "import numpy as np\n",
    "import pandas as pd\n",
    "import matplotlib.pyplot as plt\n",
    "import statsmodels.api as sm\n",
    "from scipy import stats\n",
    "from scipy.stats import binom"
   ]
  },
  {
   "cell_type": "code",
   "execution_count": 2,
   "metadata": {},
   "outputs": [],
   "source": [
    "import sportsdataverse.nba"
   ]
  },
  {
   "cell_type": "markdown",
   "metadata": {},
   "source": [
    "One common explanation for the Lakers's underperformance is that as a result of the injuries plaguing the team, the Lakers were unable to reach their full potential. Lebron himself has been quoted as saying, \"The reason we were not very good together is we weren’t on the damn floor together.\" In the quote, \"we\" refers to 3 players in particular: LeBron James, Anthony Davis, and Russell Westbrook. We will examine the relative performance of the lakers with and without key combinations of players to determine if certain player absences had a significant effect on the team's performance.\n",
    "\n",
    "This time, since we need up to date individual game data from the 2022 season, we use data provided by sportsdataverse, a python package for working with sports data. The documentation is available at https://py.sportsdataverse.org/."
   ]
  },
  {
   "cell_type": "code",
   "execution_count": null,
   "metadata": {},
   "outputs": [],
   "source": [
    "nba_df = sportsdataverse.nba.load_nba_player_boxscore(seasons=range(2022, 2023))"
   ]
  },
  {
   "cell_type": "code",
   "execution_count": 4,
   "metadata": {},
   "outputs": [
    {
     "data": {
      "text/html": [
       "<div>\n",
       "<style scoped>\n",
       "    .dataframe tbody tr th:only-of-type {\n",
       "        vertical-align: middle;\n",
       "    }\n",
       "\n",
       "    .dataframe tbody tr th {\n",
       "        vertical-align: top;\n",
       "    }\n",
       "\n",
       "    .dataframe thead th {\n",
       "        text-align: right;\n",
       "    }\n",
       "</style>\n",
       "<table border=\"1\" class=\"dataframe\">\n",
       "  <thead>\n",
       "    <tr style=\"text-align: right;\">\n",
       "      <th></th>\n",
       "      <th>athlete_display_name</th>\n",
       "      <th>team_short_display_name</th>\n",
       "      <th>min</th>\n",
       "      <th>fg</th>\n",
       "      <th>fg3</th>\n",
       "      <th>ft</th>\n",
       "      <th>oreb</th>\n",
       "      <th>dreb</th>\n",
       "      <th>reb</th>\n",
       "      <th>ast</th>\n",
       "      <th>...</th>\n",
       "      <th>athlete_position_abbreviation</th>\n",
       "      <th>team_name</th>\n",
       "      <th>team_logo</th>\n",
       "      <th>team_id</th>\n",
       "      <th>team_abbreviation</th>\n",
       "      <th>team_color</th>\n",
       "      <th>game_id</th>\n",
       "      <th>season</th>\n",
       "      <th>season_type</th>\n",
       "      <th>game_date</th>\n",
       "    </tr>\n",
       "  </thead>\n",
       "  <tbody>\n",
       "    <tr>\n",
       "      <th>27501</th>\n",
       "      <td>Stephen Curry</td>\n",
       "      <td>Warriors</td>\n",
       "      <td>40</td>\n",
       "      <td>10-27</td>\n",
       "      <td>6-17</td>\n",
       "      <td>3-4</td>\n",
       "      <td>0</td>\n",
       "      <td>7</td>\n",
       "      <td>7</td>\n",
       "      <td>5</td>\n",
       "      <td>...</td>\n",
       "      <td>PG</td>\n",
       "      <td>Warriors</td>\n",
       "      <td>https://a.espncdn.com/i/teamlogos/nba/500/gs.png</td>\n",
       "      <td>9</td>\n",
       "      <td>GS</td>\n",
       "      <td>003da5</td>\n",
       "      <td>401434775</td>\n",
       "      <td>2022</td>\n",
       "      <td>3</td>\n",
       "      <td>2022-05-14</td>\n",
       "    </tr>\n",
       "    <tr>\n",
       "      <th>27502</th>\n",
       "      <td>Klay Thompson</td>\n",
       "      <td>Warriors</td>\n",
       "      <td>42</td>\n",
       "      <td>11-22</td>\n",
       "      <td>8-14</td>\n",
       "      <td>0-0</td>\n",
       "      <td>1</td>\n",
       "      <td>7</td>\n",
       "      <td>8</td>\n",
       "      <td>2</td>\n",
       "      <td>...</td>\n",
       "      <td>SG</td>\n",
       "      <td>Warriors</td>\n",
       "      <td>https://a.espncdn.com/i/teamlogos/nba/500/gs.png</td>\n",
       "      <td>9</td>\n",
       "      <td>GS</td>\n",
       "      <td>003da5</td>\n",
       "      <td>401434775</td>\n",
       "      <td>2022</td>\n",
       "      <td>3</td>\n",
       "      <td>2022-05-14</td>\n",
       "    </tr>\n",
       "    <tr>\n",
       "      <th>27503</th>\n",
       "      <td>Nemanja Bjelica</td>\n",
       "      <td>Warriors</td>\n",
       "      <td>8</td>\n",
       "      <td>0-1</td>\n",
       "      <td>0-1</td>\n",
       "      <td>0-0</td>\n",
       "      <td>2</td>\n",
       "      <td>0</td>\n",
       "      <td>2</td>\n",
       "      <td>2</td>\n",
       "      <td>...</td>\n",
       "      <td>PF</td>\n",
       "      <td>Warriors</td>\n",
       "      <td>https://a.espncdn.com/i/teamlogos/nba/500/gs.png</td>\n",
       "      <td>9</td>\n",
       "      <td>GS</td>\n",
       "      <td>003da5</td>\n",
       "      <td>401434775</td>\n",
       "      <td>2022</td>\n",
       "      <td>3</td>\n",
       "      <td>2022-05-14</td>\n",
       "    </tr>\n",
       "    <tr>\n",
       "      <th>27504</th>\n",
       "      <td>Damion Lee</td>\n",
       "      <td>Warriors</td>\n",
       "      <td>11</td>\n",
       "      <td>1-2</td>\n",
       "      <td>1-2</td>\n",
       "      <td>0-0</td>\n",
       "      <td>2</td>\n",
       "      <td>0</td>\n",
       "      <td>2</td>\n",
       "      <td>0</td>\n",
       "      <td>...</td>\n",
       "      <td>SG</td>\n",
       "      <td>Warriors</td>\n",
       "      <td>https://a.espncdn.com/i/teamlogos/nba/500/gs.png</td>\n",
       "      <td>9</td>\n",
       "      <td>GS</td>\n",
       "      <td>003da5</td>\n",
       "      <td>401434775</td>\n",
       "      <td>2022</td>\n",
       "      <td>3</td>\n",
       "      <td>2022-05-14</td>\n",
       "    </tr>\n",
       "    <tr>\n",
       "      <th>27505</th>\n",
       "      <td>Jordan Poole</td>\n",
       "      <td>Warriors</td>\n",
       "      <td>24</td>\n",
       "      <td>4-15</td>\n",
       "      <td>2-11</td>\n",
       "      <td>2-3</td>\n",
       "      <td>0</td>\n",
       "      <td>3</td>\n",
       "      <td>3</td>\n",
       "      <td>2</td>\n",
       "      <td>...</td>\n",
       "      <td>SG</td>\n",
       "      <td>Warriors</td>\n",
       "      <td>https://a.espncdn.com/i/teamlogos/nba/500/gs.png</td>\n",
       "      <td>9</td>\n",
       "      <td>GS</td>\n",
       "      <td>003da5</td>\n",
       "      <td>401434775</td>\n",
       "      <td>2022</td>\n",
       "      <td>3</td>\n",
       "      <td>2022-05-14</td>\n",
       "    </tr>\n",
       "  </tbody>\n",
       "</table>\n",
       "<p>5 rows × 35 columns</p>\n",
       "</div>"
      ],
      "text/plain": [
       "      athlete_display_name team_short_display_name min     fg   fg3   ft oreb  \\\n",
       "27501        Stephen Curry                Warriors  40  10-27  6-17  3-4    0   \n",
       "27502        Klay Thompson                Warriors  42  11-22  8-14  0-0    1   \n",
       "27503      Nemanja Bjelica                Warriors   8    0-1   0-1  0-0    2   \n",
       "27504           Damion Lee                Warriors  11    1-2   1-2  0-0    2   \n",
       "27505         Jordan Poole                Warriors  24   4-15  2-11  2-3    0   \n",
       "\n",
       "      dreb reb ast  ... athlete_position_abbreviation team_name  \\\n",
       "27501    7   7   5  ...                            PG  Warriors   \n",
       "27502    7   8   2  ...                            SG  Warriors   \n",
       "27503    0   2   2  ...                            PF  Warriors   \n",
       "27504    0   2   0  ...                            SG  Warriors   \n",
       "27505    3   3   2  ...                            SG  Warriors   \n",
       "\n",
       "                                              team_logo team_id  \\\n",
       "27501  https://a.espncdn.com/i/teamlogos/nba/500/gs.png       9   \n",
       "27502  https://a.espncdn.com/i/teamlogos/nba/500/gs.png       9   \n",
       "27503  https://a.espncdn.com/i/teamlogos/nba/500/gs.png       9   \n",
       "27504  https://a.espncdn.com/i/teamlogos/nba/500/gs.png       9   \n",
       "27505  https://a.espncdn.com/i/teamlogos/nba/500/gs.png       9   \n",
       "\n",
       "      team_abbreviation team_color    game_id  season  season_type   game_date  \n",
       "27501                GS     003da5  401434775    2022            3  2022-05-14  \n",
       "27502                GS     003da5  401434775    2022            3  2022-05-14  \n",
       "27503                GS     003da5  401434775    2022            3  2022-05-14  \n",
       "27504                GS     003da5  401434775    2022            3  2022-05-14  \n",
       "27505                GS     003da5  401434775    2022            3  2022-05-14  \n",
       "\n",
       "[5 rows x 35 columns]"
      ]
     },
     "execution_count": 4,
     "metadata": {},
     "output_type": "execute_result"
    }
   ],
   "source": [
    "nba_df.tail()"
   ]
  },
  {
   "cell_type": "markdown",
   "metadata": {},
   "source": [
    "We first load in NBA game data for the 2022 season into a pandas DataFrame. We drop the columns we won't be working with."
   ]
  },
  {
   "cell_type": "code",
   "execution_count": 5,
   "metadata": {},
   "outputs": [
    {
     "data": {
      "text/html": [
       "<div>\n",
       "<style scoped>\n",
       "    .dataframe tbody tr th:only-of-type {\n",
       "        vertical-align: middle;\n",
       "    }\n",
       "\n",
       "    .dataframe tbody tr th {\n",
       "        vertical-align: top;\n",
       "    }\n",
       "\n",
       "    .dataframe thead th {\n",
       "        text-align: right;\n",
       "    }\n",
       "</style>\n",
       "<table border=\"1\" class=\"dataframe\">\n",
       "  <thead>\n",
       "    <tr style=\"text-align: right;\">\n",
       "      <th></th>\n",
       "      <th>athlete_display_name</th>\n",
       "      <th>min</th>\n",
       "      <th>team_name</th>\n",
       "      <th>pts</th>\n",
       "      <th>season</th>\n",
       "      <th>game_date</th>\n",
       "      <th>game_id</th>\n",
       "    </tr>\n",
       "  </thead>\n",
       "  <tbody>\n",
       "    <tr>\n",
       "      <th>27501</th>\n",
       "      <td>Stephen Curry</td>\n",
       "      <td>40</td>\n",
       "      <td>Warriors</td>\n",
       "      <td>29</td>\n",
       "      <td>2022</td>\n",
       "      <td>2022-05-14</td>\n",
       "      <td>401434775</td>\n",
       "    </tr>\n",
       "    <tr>\n",
       "      <th>27502</th>\n",
       "      <td>Klay Thompson</td>\n",
       "      <td>42</td>\n",
       "      <td>Warriors</td>\n",
       "      <td>30</td>\n",
       "      <td>2022</td>\n",
       "      <td>2022-05-14</td>\n",
       "      <td>401434775</td>\n",
       "    </tr>\n",
       "    <tr>\n",
       "      <th>27503</th>\n",
       "      <td>Nemanja Bjelica</td>\n",
       "      <td>8</td>\n",
       "      <td>Warriors</td>\n",
       "      <td>0</td>\n",
       "      <td>2022</td>\n",
       "      <td>2022-05-14</td>\n",
       "      <td>401434775</td>\n",
       "    </tr>\n",
       "    <tr>\n",
       "      <th>27504</th>\n",
       "      <td>Damion Lee</td>\n",
       "      <td>11</td>\n",
       "      <td>Warriors</td>\n",
       "      <td>3</td>\n",
       "      <td>2022</td>\n",
       "      <td>2022-05-14</td>\n",
       "      <td>401434775</td>\n",
       "    </tr>\n",
       "    <tr>\n",
       "      <th>27505</th>\n",
       "      <td>Jordan Poole</td>\n",
       "      <td>24</td>\n",
       "      <td>Warriors</td>\n",
       "      <td>12</td>\n",
       "      <td>2022</td>\n",
       "      <td>2022-05-14</td>\n",
       "      <td>401434775</td>\n",
       "    </tr>\n",
       "  </tbody>\n",
       "</table>\n",
       "</div>"
      ],
      "text/plain": [
       "      athlete_display_name min team_name pts  season   game_date    game_id\n",
       "27501        Stephen Curry  40  Warriors  29    2022  2022-05-14  401434775\n",
       "27502        Klay Thompson  42  Warriors  30    2022  2022-05-14  401434775\n",
       "27503      Nemanja Bjelica   8  Warriors   0    2022  2022-05-14  401434775\n",
       "27504           Damion Lee  11  Warriors   3    2022  2022-05-14  401434775\n",
       "27505         Jordan Poole  24  Warriors  12    2022  2022-05-14  401434775"
      ]
     },
     "execution_count": 5,
     "metadata": {},
     "output_type": "execute_result"
    }
   ],
   "source": [
    "nba_df = nba_df[['athlete_display_name', 'min', 'team_name', 'pts', 'season', 'game_date', 'game_id']]\n",
    "nba_df.tail()"
   ]
  },
  {
   "cell_type": "markdown",
   "metadata": {},
   "source": [
    "We also need to do some data cleaning. By default the points and minutes columns are stored as strings. However, we need to work with points as integers and minutes as floats. Additionally, if a player on a team doesn't play in a game, then they don't show up in a row with that particular game_id. However, if a player actively plays minutes in a game, but doesn't score any points, then their pts are registered as '--'. We handle this as we iterate through the columns of points scored."
   ]
  },
  {
   "cell_type": "code",
   "execution_count": 6,
   "metadata": {},
   "outputs": [],
   "source": [
    "nba_df['pts'] = nba_df['pts'].apply(lambda x: 0 if x == '--' else int(x))\n",
    "nba_df['min'] = nba_df['min'].apply(lambda x: 0 if x == '--' else float(x))"
   ]
  },
  {
   "cell_type": "markdown",
   "metadata": {},
   "source": [
    "Since the data doesn't contain a column that records the winner of a game, we write a function that determines the winning team by comparing the total points scored by the teams in the game. We also implement helper functions that compute the win rate for a team in a specific set of games. This will be important later as we want to examine how the Lakers performed when only specific groups of players were playing."
   ]
  },
  {
   "cell_type": "code",
   "execution_count": 7,
   "metadata": {},
   "outputs": [],
   "source": [
    "# This function goes through selects the rows corresponding to a particular game_id.\n",
    "# It then uses df.sum() to get the points scored by each team and then returns the winner.\n",
    "def get_game_winner(game_id):\n",
    "    nba_game = nba_df[nba_df['game_id'] == game_id]\n",
    "    teams = nba_game['team_name'].unique()\n",
    "    t0, t1 = teams[0], teams[1]\n",
    "    if nba_game[nba_game['team_name'] == t0]['pts'].sum() > nba_game[\n",
    "        nba_game['team_name'] == t1]['pts'].sum():\n",
    "        return t0\n",
    "    else:\n",
    "        return t1\n",
    "\n",
    "def get_number_of_games(team, df=nba_df):\n",
    "    nba_team = df[df['team_name'] == team]\n",
    "    return len(nba_team['game_id'].unique())\n",
    "\n",
    "# This function gets the number of wins for a given team by calling get_game_winner on each game played by the team\n",
    "# If the winning team matches the team in question, True is stored in the list. Summing of the list's True values\n",
    "# gives the number of wins.\n",
    "def get_number_of_wins(team, game_ids):\n",
    "    return sum([get_game_winner(game_id) == team for game_id in game_ids])\n",
    "\n",
    "# We compute the winrate of the team for a set of games. We must be careful to only include the team actually played in.\n",
    "def compute_win_rate(team, game_ids):\n",
    "    return get_number_of_wins(team, game_ids) / len(game_ids)"
   ]
  },
  {
   "cell_type": "markdown",
   "metadata": {},
   "source": [
    "Our goal is to be able to consider the games where all members of a specific set of players are playing. The function get_game_ids_for_set_of_players() enables us to extract such games. Once we have these game_ids, we can use our previous functions to compute winrates."
   ]
  },
  {
   "cell_type": "code",
   "execution_count": 8,
   "metadata": {},
   "outputs": [],
   "source": [
    "# This function gets the games where all players in a list played in that game\n",
    "def get_games_with_player(player_name, team_name, season):\n",
    "    return nba_df[(nba_df['athlete_display_name'] == player_name) & (nba_df['season'] == season) & (nba_df['team_name'] == team_name)]\n",
    "\n",
    "def get_game_ids_for_player(player_name, team_name, season):\n",
    "    return nba_df[(nba_df['athlete_display_name'] == player_name) & (nba_df['season'] == season) & (nba_df['team_name'] == team_name)]['game_id'].unique()\n",
    "\n",
    "# This function returns game_ids for games where all members of a set of players played in that game\n",
    "# It does this by interatively calling get_game_ids_for_player on each player in the set and taking the intersection with the current result set.\n",
    "def get_game_ids_for_set_of_players(player_names, team_name, season):\n",
    "    shared_game_ids = set(get_game_ids_for_player(player_names[0], team_name, season))\n",
    "    for p in player_names:\n",
    "        shared_game_ids = shared_game_ids.intersection(set(get_game_ids_for_player(p, team_name, season)))\n",
    "    return shared_game_ids\n",
    "\n",
    "# This function allows us to get back the df for a set of games from the game_ids.\n",
    "def get_games_with_game_id(game_ids):\n",
    "    return nba_df[nba_df['game_id'].isin(game_ids)]\n",
    "\n",
    "def get_games_with_set_of_players(player_names):\n",
    "    return get_games_with_game_id(get_game_ids_for_set_of_players(player_names))\n",
    "\n",
    "def get_game_ids_for_team(team_name, season):\n",
    "    return nba_df[(nba_df['team_name'] == team_name) & (nba_df['season'] == season)]['game_id'].unique()"
   ]
  },
  {
   "cell_type": "markdown",
   "metadata": {},
   "source": [
    "To start, let's look at the number of games that specific players played in."
   ]
  },
  {
   "cell_type": "code",
   "execution_count": 9,
   "metadata": {},
   "outputs": [
    {
     "name": "stdout",
     "output_type": "stream",
     "text": [
      "82\n",
      "78\n",
      "56\n",
      "40\n"
     ]
    }
   ],
   "source": [
    "print(len(get_game_ids_for_team(\"Lakers\", 2022)))\n",
    "print(len(get_game_ids_for_player(\"Russell Westbrook\", \"Lakers\", 2022)))\n",
    "print(len(get_game_ids_for_player(\"LeBron James\", \"Lakers\", 2022)))\n",
    "print(len(get_game_ids_for_player(\"Anthony Davis\", \"Lakers\", 2022)))"
   ]
  },
  {
   "cell_type": "markdown",
   "metadata": {},
   "source": [
    "We can see that out of the 82 total games that the Lakers played, Russell Westbrook played in 78 of them. On the other hand, LeBron only played in 56 games, and Davis played in just 40. Evidently, LeBron and Davis missed a substantial amount of games. But did this absense truly hurt the Lakers' and prevent them from winning? Particularly, we will want to examine the effect of Lebron and Davis playing together, as LeBron himself cited the absence of the duo as a reason for poor peformance. Since we are already examing Russell Westbrook separately, and considering the fact that he played in 78/82 games, we will not consider him here even if did miss 4 games due to injury or otherwise."
   ]
  },
  {
   "cell_type": "markdown",
   "metadata": {},
   "source": [
    "On thing we might be concerned with is that players contribute uneven amounts to the games they play in. In other words, maybe LeBron often only plays a couple of minutes in many games and is unable to fully contribute. By examining the minutes played in each game for Lebron and Davis we can compute their mean minutes played as well as the standard deviation. We can see that by and large, when they do play, LeBron and Davis are on the court for a subtantial amount of the game: roughly around 75% of the minutes out of the total 48."
   ]
  },
  {
   "cell_type": "code",
   "execution_count": 10,
   "metadata": {},
   "outputs": [
    {
     "name": "stdout",
     "output_type": "stream",
     "text": [
      "37.21052631578947 4.174848845274092\n",
      "35.15 7.384273830242213\n"
     ]
    }
   ],
   "source": [
    "lebron_minutes = np.asarray(nba_df[(nba_df['season'] == 2022) & (nba_df['athlete_display_name'] == \"LeBron James\")]['min'])\n",
    "davis_minutes = np.asarray(nba_df[(nba_df['season'] == 2022) & (nba_df['athlete_display_name'] == \"Anthony Davis\")]['min'])\n",
    "print(lebron_minutes.mean(), lebron_minutes.std())\n",
    "print(davis_minutes.mean(), davis_minutes.std())\n"
   ]
  },
  {
   "cell_type": "markdown",
   "metadata": {},
   "source": [
    "With our helper functions written and some exploratory analysis completed, we can begin to examine the winrates for the Lakers depending on who was playing. "
   ]
  },
  {
   "cell_type": "code",
   "execution_count": 11,
   "metadata": {},
   "outputs": [
    {
     "name": "stdout",
     "output_type": "stream",
     "text": [
      "The Lakers' overall win rate in the 2022 season was: 0.4024390243902439\n",
      "The Lakers' winrate with LeBron James and Anthony Davis is:  0.5\n",
      "The Lakers' winrate with LeBron James but without Anthony Davis is:  0.4117647058823529\n",
      "The Lakers' winrate with Anthony Davis but without LeBron James is:  0.3333333333333333\n"
     ]
    }
   ],
   "source": [
    "print(\"The Lakers\\' overall win rate in the 2022 season was:\", compute_win_rate('Lakers', get_game_ids_for_team('Lakers', 2022)))\n",
    "\n",
    "with_lebron = get_game_ids_for_set_of_players(['LeBron James'], 'Lakers', 2022)\n",
    "with_davis = get_game_ids_for_set_of_players(['Anthony Davis'], 'Lakers', 2022)\n",
    "with_lebron_and_davis = get_game_ids_for_set_of_players(['LeBron James', 'Anthony Davis'], 'Lakers', 2022)\n",
    "\n",
    "with_lebron_without_davis = with_lebron - with_lebron_and_davis\n",
    "with_davis_without_lebron = with_davis - with_lebron_and_davis\n",
    "\n",
    "print(\"The Lakers' winrate with LeBron James and Anthony Davis is: \", compute_win_rate('Lakers', with_lebron_and_davis))\n",
    "print(\"The Lakers' winrate with LeBron James but without Anthony Davis is: \", compute_win_rate('Lakers', with_lebron_without_davis))\n",
    "print(\"The Lakers' winrate with Anthony Davis but without LeBron James is: \", compute_win_rate('Lakers', with_davis_without_lebron))"
   ]
  },
  {
   "cell_type": "markdown",
   "metadata": {},
   "source": [
    "We start by looking at how many games the Lakers won overall: they won 33 out of 82 games for a winrate of about 40%. We can see that when either only LeBron is playing, the Lakers' winrate is slightly above their overall winrate for the season. And while only Davis is playing, the team's winrate drops to only 1/3. On the other hand, when both are playing together, the winrate of the team shoots up to 50%. Thus, one surmise that if the LeBron and Davis were able to play together every game, the Lakers' might be able to acheive a 50% winrate for the season.\n",
    "\n",
    "But we should ask ourselves, is this result statistically significant?\n",
    "\n",
    "We first reweight the winrate of with LeBron without Davis and without LeBron with Davis to reflect the proportion of the games that they represent. We do this to combine the two winrates into a single winrate that reflects reflects both of their individual contribution to the team without eachother."
   ]
  },
  {
   "cell_type": "code",
   "execution_count": 12,
   "metadata": {},
   "outputs": [
    {
     "name": "stdout",
     "output_type": "stream",
     "text": [
      "0.3846153846153846\n"
     ]
    }
   ],
   "source": [
    "wr_lebron_no_davis = compute_win_rate('Lakers', with_lebron_without_davis)\n",
    "wr_davis_no_lebron = compute_win_rate('Lakers', with_davis_without_lebron)\n",
    "\n",
    "wr_lebron_no_davis *= (len(with_lebron_without_davis) / (len(with_lebron_without_davis) + len(with_davis_without_lebron)))\n",
    "wr_davis_no_lebron *= (len(with_davis_without_lebron) / (len(with_lebron_without_davis) + len(with_davis_without_lebron)))\n",
    "\n",
    "print(wr_lebron_no_davis + wr_davis_no_lebron)"
   ]
  },
  {
   "cell_type": "markdown",
   "metadata": {},
   "source": [
    "Doing so yields a winrate of about 38.5%. For our statistical model, we model the Lakers' season with a binomial distribution. You can read more about the binomial distribution here: http://www.stat.yale.edu/Courses/1997-98/101/binom.htm. As it applies here, we assume the Lakers' have a certain probability for winning each game, and the result of each game is independent from the result of all others. We take that probability to be the 38.5% we calculated, so we assume that team's performance (probability of victory for each game) is determined purely from the individual contribution of Davis and LeBron. Our question then is, what is the probability that the 50% win rate acheived when LeBron and Davis were playing together simply happend by chance? Or is it that the combination of the two players created a synergy that led to the strong performance?\n",
    "\n",
    "Our Null Hypothesis can thus be summarized as follows: **The combination of LeBron and Davis playing yielded no improvement on the Laker's performance over their performance fmom LeBron and Davis's individual contributions.**\n",
    "\n",
    "We should consider whether a binomial distribution is really appropriate to model the team's games. We can definitely treat each game as a bernoulii trial, with outcomes win and not win for the lakers. Each game is, in theory, not influeced by previous games, so we can treat the outcome of each game as independent events. Indeed, the idea of the \"hot hand,\" where a string a successes implies a greater chance of future success is a fallacy when considering independent trials. However, some have argued that effect can exist in practice, as the psychological effects of the results of prior games/events can influence future performance. In other words, the events aren't truly independent. Whether the \"hot hand\" exists empiracally is still up for debate. However, here, we will assume that the outcomes of games are truly independent, allowing us to apply the binomial distribution.\n",
    "\n",
    "You can look to the following articles for further discussion and analysis of the \"hot hand\" effect:\n",
    "\n",
    "Gilovich, Thomas; Tversky, A.; Vallone, R. (1985). \"The Hot Hand in Basketball: On the Misperception of Random Sequences\". Cognitive Psychology. 17 (3): 295–314. doi:10.1016/0010-0285(85)90010-6. S2CID 317235.\n",
    "\n",
    "https://marketing.wharton.upenn.edu/wp-content/uploads/2018/11/Paper-Joshua-Miller.pdf\n",
    "\n",
    "Roney, Christopher J. R.; Trick, Lana M. (2009). \"Roney, C. R., Trick, L. M. (2009)\". Sympathetic Magic and Perceptions of Randomness: The Hot Hand Versus the Gambler's Fallacy."
   ]
  },
  {
   "cell_type": "markdown",
   "metadata": {},
   "source": [
    "We can use SciPy to help us with the computation."
   ]
  },
  {
   "cell_type": "code",
   "execution_count": 14,
   "metadata": {},
   "outputs": [
    {
     "name": "stdout",
     "output_type": "stream",
     "text": [
      "P(Lakers win 41 or more games) =  0.02200429595851483\n"
     ]
    }
   ],
   "source": [
    "n, p = 82, 0.3846153846153846 # 82 games in a season, 38.46%\n",
    "print(\"P(Lakers win 41 or more games) = \", 1 - stats.binom.cdf(40, n, p))"
   ]
  },
  {
   "cell_type": "markdown",
   "metadata": {},
   "source": [
    "We see that if the Lakers' games are modelled with a binomial distribution, there is a < 5% probability that we see the Lakers win 41 or more games (>= 50% winrate). Therefore, we conclude that the combination of LeBron James and Anthony Davis has a stastically significant (positive) impact on the Lakers' performance. By extension, we agree that the fact that they were not able to consistently play together had a detrimental effect on the Lakers' 2022 season."
   ]
  },
  {
   "cell_type": "markdown",
   "metadata": {},
   "source": [
    "END HERE"
   ]
  }
 ],
 "metadata": {
  "interpreter": {
   "hash": "916dbcbb3f70747c44a77c7bcd40155683ae19c65e1c03b4aa3499c5328201f1"
  },
  "kernelspec": {
   "display_name": "Python 3.8.10 64-bit",
   "language": "python",
   "name": "python3"
  },
  "language_info": {
   "codemirror_mode": {
    "name": "ipython",
    "version": 3
   },
   "file_extension": ".py",
   "mimetype": "text/x-python",
   "name": "python",
   "nbconvert_exporter": "python",
   "pygments_lexer": "ipython3",
   "version": "3.8.10"
  },
  "orig_nbformat": 4
 },
 "nbformat": 4,
 "nbformat_minor": 2
}
